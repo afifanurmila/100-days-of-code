{
  "nbformat": 4,
  "nbformat_minor": 0,
  "metadata": {
    "colab": {
      "provenance": [],
      "authorship_tag": "ABX9TyPcAtURBkTP3AwSC2KKVG3l",
      "include_colab_link": true
    },
    "kernelspec": {
      "name": "python3",
      "display_name": "Python 3"
    },
    "language_info": {
      "name": "python"
    }
  },
  "cells": [
    {
      "cell_type": "markdown",
      "metadata": {
        "id": "view-in-github",
        "colab_type": "text"
      },
      "source": [
        "<a href=\"https://colab.research.google.com/github/afifanurmila/100-days-of-code/blob/main/Day_4_Gaussian_Process.ipynb\" target=\"_parent\"><img src=\"https://colab.research.google.com/assets/colab-badge.svg\" alt=\"Open In Colab\"/></a>"
      ]
    },
    {
      "cell_type": "markdown",
      "source": [
        "# Gaussian Process"
      ],
      "metadata": {
        "id": "Mc1_ecF6baxJ"
      }
    },
    {
      "cell_type": "markdown",
      "source": [
        "## **Surrogate Model**\n",
        "\n",
        "Approximate mathematical"
      ],
      "metadata": {
        "id": "jaFRMvGnb2E6"
      }
    },
    {
      "cell_type": "markdown",
      "source": [
        "## **Black Box View**\n",
        "\n",
        "\n",
        "\n"
      ],
      "metadata": {
        "id": "VfE6O28lcDKj"
      }
    },
    {
      "cell_type": "markdown",
      "source": [
        "## **Distribusi Gaussian**\n",
        "\n",
        "1. **Univariat Gaussian**\n",
        "\n",
        "- Parameter berupa skalar.\n",
        "\n",
        "2. **Multivariat Gaussian**\n",
        "- Parameter berupa vektor\n",
        "- Parameter (D) bisa diubah"
      ],
      "metadata": {
        "id": "G1NxmCYPch7E"
      }
    },
    {
      "cell_type": "markdown",
      "source": [
        "## **Proses Gaussian**\n",
        "\n",
        "**Proses stokastik** adalah kumpulan dari peubah-peubah acak yang terdistribusi tertentu dan memiliki indeks t, dengan t itu dapat berupa nilai-nilai yang dapat kontinu atau takkontinu.\n",
        "- kontinu disini sama artinya pada variabel kontinu\n",
        "- takkontinu sama artinya dengan variabel diskrit\n",
        "\n",
        "**Proses Gaussian** adalah proses stokastik yang berdistribusi gaussian."
      ],
      "metadata": {
        "id": "3MwE7Cd3d1ib"
      }
    },
    {
      "cell_type": "code",
      "execution_count": null,
      "metadata": {
        "id": "CrZLaw4dbNn0"
      },
      "outputs": [],
      "source": []
    }
  ]
}