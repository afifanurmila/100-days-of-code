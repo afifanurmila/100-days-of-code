{
  "nbformat": 4,
  "nbformat_minor": 0,
  "metadata": {
    "colab": {
      "provenance": [],
      "authorship_tag": "ABX9TyNM1Mc/fCwIYNqoo5XdCHQB",
      "include_colab_link": true
    },
    "kernelspec": {
      "name": "python3",
      "display_name": "Python 3"
    },
    "language_info": {
      "name": "python"
    }
  },
  "cells": [
    {
      "cell_type": "markdown",
      "metadata": {
        "id": "view-in-github",
        "colab_type": "text"
      },
      "source": [
        "<a href=\"https://colab.research.google.com/github/afifanurmila/100-days-of-code/blob/main/Day_5.ipynb\" target=\"_parent\"><img src=\"https://colab.research.google.com/assets/colab-badge.svg\" alt=\"Open In Colab\"/></a>"
      ]
    },
    {
      "cell_type": "markdown",
      "source": [
        "## Autogen Studio"
      ],
      "metadata": {
        "id": "f83VisxRT-DV"
      }
    },
    {
      "cell_type": "markdown",
      "source": [
        "**Dictionary**\n",
        "\n",
        "- RAG: Feed"
      ],
      "metadata": {
        "id": "w6BejbD4T-Fx"
      }
    },
    {
      "cell_type": "markdown",
      "source": [
        "**DEMO AUTOGEN STUDIO**\n",
        "\n",
        "Dapat dilihat dari repo autogen from microsoft untuk create agen. Jadi berdasarkan repo tersebut autogen studio merupakan sample aplikasi dari agen.\n",
        "\n",
        "How to create agen tinggal ikuti read.me saja\n",
        "\n"
      ],
      "metadata": {
        "id": "FwHIFkZZUTeR"
      }
    },
    {
      "cell_type": "markdown",
      "source": [
        "When we get started for create agen:\n",
        "- We will get a some fitur:\n",
        "  \n",
        "  1. Skills\n",
        "  2. Model\n",
        "  3. Agen\n",
        "  2. Workflows\n"
      ],
      "metadata": {
        "id": "n9n2Z261VcxP"
      }
    }
  ]
}