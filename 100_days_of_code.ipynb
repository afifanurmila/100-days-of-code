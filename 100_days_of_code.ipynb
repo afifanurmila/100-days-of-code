{
  "nbformat": 4,
  "nbformat_minor": 0,
  "metadata": {
    "colab": {
      "provenance": [],
      "authorship_tag": "ABX9TyPqpRjt+QJgtKNYY63RuiBu",
      "include_colab_link": true
    },
    "kernelspec": {
      "name": "python3",
      "display_name": "Python 3"
    },
    "language_info": {
      "name": "python"
    }
  },
  "cells": [
    {
      "cell_type": "markdown",
      "metadata": {
        "id": "view-in-github",
        "colab_type": "text"
      },
      "source": [
        "<a href=\"https://colab.research.google.com/github/afifanurmila/100-days-of-code/blob/main/100_days_of_code.ipynb\" target=\"_parent\"><img src=\"https://colab.research.google.com/assets/colab-badge.svg\" alt=\"Open In Colab\"/></a>"
      ]
    },
    {
      "cell_type": "markdown",
      "source": [
        "# Statistics with CFI"
      ],
      "metadata": {
        "id": "7IpN9iI7gakV"
      }
    },
    {
      "cell_type": "markdown",
      "source": [
        "Statistics is the process of collecting, summarizing, and analyzing **data** so we can make decisions or inferences.\n",
        "\n",
        "Statistics is really a broad umbrella term. It can cover a lot of methods, formulas, practices, and theories.\n",
        "\n",
        "But, we can breakdown for a better understanded.\n",
        "\n",
        "**1.** Descriptive statistics VS Inferential Statistics\n",
        "\n",
        "**2.** 3 Approaches for inferential statistics:\n",
        "- Classical\n",
        "- Frequentist\n",
        "- Bayesian\n",
        "\n",
        "Which to apply?\n",
        "\n",
        "\n",
        "1.   Descriptive Statistics\n",
        "2.   Inferential Statistics\n",
        "3.   Machine Learning\n",
        "\n",
        "\n",
        "Step-step to do it:\n",
        "\n",
        "We have data and we will make a decisions so, what are tools or approachess we can use?\n",
        "\n",
        "\n",
        "> The right step is what decision we will take and then we find out which method we should use.\n",
        "\n",
        "> Not looking for what method we will use and then determining what analysis we will find out.\n",
        "\n",
        "\n",
        "\n",
        "\n"
      ],
      "metadata": {
        "id": "XKE1r46hgiwC"
      }
    },
    {
      "cell_type": "markdown",
      "source": [
        "\n",
        "\n",
        "---\n",
        "**The Anatomy of Data Set**\n",
        "\n",
        "\n",
        "\n",
        "> **Mata Kuliah Basis Data**\n",
        "\n",
        "\n",
        "Dataset is the collection of data we will work with for our statistical analysis.\n",
        "\n",
        "Format dataset : CSV, JSON, XLSX\n",
        "\n",
        "Datasets might have data stored in databases and across multiple tables connected by relationships, or it may be stored using other approaches like graph databases used for purposes like social networks.\n",
        "\n",
        "In the Database consists of tables containing columns and rows.\n",
        "\n",
        "* Column: each represents variables or features.\n",
        "* Row: each represents a single observation.\n",
        "* Target variable: the variable we want to predict, estimate, model, or better understand.\n",
        "* Unique ID: this helps to identify each row.\n",
        "\n",
        "Dataset is a population. Subset from dataset is sample, with statistics we all use a sample to make inferences or predictions about the larger population. So that, the sample taken must be representative of the population.\n"
      ],
      "metadata": {
        "id": "MYjfbeJqi1rR"
      }
    },
    {
      "cell_type": "markdown",
      "source": [
        "\n",
        "\n",
        "---\n",
        "\n",
        "**Descriptive VS Inferential Statistics**\n",
        "\n",
        "\n",
        "\n",
        "> Descriptive Statistics broadly describe data, its goal is to provide an output that can be used to summarize a set of observation.\n",
        "\n",
        "Descriptive statistics can summarize:\n",
        "\n",
        "1. Measures of Central Tendency\n",
        "* Mean\n",
        "* Median\n",
        "* Modus\n",
        "\n",
        "\n",
        "2. Measures of Dispersion\n",
        "- Range\n",
        "- Variance\n",
        "- Standar Deviation\n",
        "\n",
        "\n",
        "3. Shapes of Distribution\n",
        "- Skewness\n",
        "- Kurtosis\n",
        "\n",
        "Descriptive statistics are objective measures though they are limited in that only describe our sample data.\n",
        "\n",
        "> Inferential Statistics make inferences about a population by using a sample.\n",
        "\n",
        "It some approaches Inferential statistics can summarize:\n",
        "- Probability\n",
        "- P-Value\n",
        "- Margin of error\n",
        "\n",
        "\n",
        "**Approaches to inferring Probability**\n",
        "\n",
        "They are many approaches when it comes to inferential statistics.\n",
        "1. Classical : assumes outcomes have a set chance of occurring that is predictable. Usually that event is equally likely to occur.\n",
        "\n",
        "  Rumus :\n",
        "\n",
        "  of Favorable Outcomes/of Possible Outcomes\n",
        "  \n",
        "2. Frequentist : assummes probability can be measured and described through observations of past events.\n",
        "\n",
        "  Rumus :\n",
        "\n",
        "  of Favorable Outcomes Observed/Count of Observations\n",
        "\n",
        "3. Bayesian : Attempts to incorporate outside information into probabilities. Probabilities should be updated as new info becomes available.\n",
        "\n",
        "  Rumus :\n",
        "\n",
        "  (B given A)(Probability of A)/Probability of B\n",
        "\n",
        "\n"
      ],
      "metadata": {
        "id": "pfm-5AbHiWBh"
      }
    },
    {
      "cell_type": "markdown",
      "source": [],
      "metadata": {
        "id": "eHraxVLrJnBb"
      }
    }
  ]
}